{
 "cells": [
  {
   "cell_type": "markdown",
   "metadata": {
    "collapsed": true,
    "pycharm": {
     "name": "#%% md\n"
    }
   },
   "source": [
    "#Introduction to class Point\n"
   ]
  },
  {
   "cell_type": "code",
   "execution_count": 1,
   "outputs": [],
   "source": [
    "from core.Point import Point"
   ],
   "metadata": {
    "collapsed": false,
    "pycharm": {
     "name": "#%%\n"
    }
   }
  },
  {
   "cell_type": "markdown",
   "source": [
    "The class point represent a Point in a 3D world.\n",
    "\n",
    "To crate a point simple call 'Point()'\n",
    "\n"
   ],
   "metadata": {
    "collapsed": false
   }
  },
  {
   "cell_type": "code",
   "execution_count": 2,
   "outputs": [
    {
     "name": "stdout",
     "output_type": "stream",
     "text": [
      "Point: x= 0.0 y= 0.0 z= 0.0 Point: x= 1 y= 2 z= 0\n"
     ]
    }
   ],
   "source": [
    "origin = Point()\n",
    "point1 = Point(1,0,0)\n",
    "point2 = Point(1,2,0)\n",
    "\n",
    "print(origin, point2)"
   ],
   "metadata": {
    "collapsed": false,
    "pycharm": {
     "name": "#%%\n"
    }
   }
  },
  {
   "cell_type": "markdown",
   "source": [
    "Every Point-method act as an imutable Operation. In other words; every operation creates a new independent Point"
   ],
   "metadata": {
    "collapsed": false,
    "pycharm": {
     "name": "#%% md\n"
    }
   }
  },
  {
   "cell_type": "code",
   "execution_count": 3,
   "outputs": [
    {
     "name": "stdout",
     "output_type": "stream",
     "text": [
      "Point: x= 1 y= 0 z= 0\n",
      "Point: x= 1 y= 2 z= 0\n",
      "Point: x= 2 y= 2 z= 0\n",
      "Point: x= 1 y= 0 z= 0\n",
      "Point: x= 1 y= 2 z= 0\n",
      "Point: x= 4 y= 2 z= 0\n"
     ]
    }
   ],
   "source": [
    "new_point = point1 + point2\n",
    "print(point1, point2, new_point, sep=\"\\n\" )\n",
    "\n",
    "new_point.x = 4 # change new point and show nothing else changed\n",
    "print(point1, point2, new_point, sep=\"\\n\" )"
   ],
   "metadata": {
    "collapsed": false,
    "pycharm": {
     "name": "#%%\n"
    }
   }
  },
  {
   "cell_type": "markdown",
   "source": [
    "Some basic operations have a special behavior for Point.\n"
   ],
   "metadata": {
    "collapsed": false,
    "pycharm": {
     "name": "#%% md\n"
    }
   }
  },
  {
   "cell_type": "code",
   "execution_count": 4,
   "outputs": [
    {
     "name": "stdout",
     "output_type": "stream",
     "text": [
      "2.23606797749979\n"
     ]
    }
   ],
   "source": [
    "# get distance from origin (0,0,0)\n",
    "\n",
    "print(abs(point2))\n"
   ],
   "metadata": {
    "collapsed": false,
    "pycharm": {
     "name": "#%%\n"
    }
   }
  },
  {
   "cell_type": "code",
   "execution_count": 5,
   "outputs": [
    {
     "name": "stdout",
     "output_type": "stream",
     "text": [
      "Point: x= 1 y= 2 z= 0 Point: x= 4 y= 5 z= 3\n"
     ]
    }
   ],
   "source": [
    "# add something to a existing point\n",
    "\n",
    "print(point2,point2 + (3,3,3))\n"
   ],
   "metadata": {
    "collapsed": false,
    "pycharm": {
     "name": "#%%\n"
    }
   }
  },
  {
   "cell_type": "code",
   "execution_count": 6,
   "outputs": [
    {
     "name": "stdout",
     "output_type": "stream",
     "text": [
      "7.0710678118654755\n",
      "7.0710678118654755\n"
     ]
    }
   ],
   "source": [
    "# get distance between two points; its commutative\n",
    "\n",
    "point3 = Point(5,5,5)\n",
    "\n",
    "distance = point2 - point3\n",
    "distance2 = point3 - point2\n",
    "\n",
    "print(distance, distance2, sep=\"\\n\" )\n",
    "\n"
   ],
   "metadata": {
    "collapsed": false,
    "pycharm": {
     "name": "#%%\n"
    }
   }
  },
  {
   "cell_type": "markdown",
   "source": [
    "Get the middle point of two points\n"
   ],
   "metadata": {
    "collapsed": false
   }
  },
  {
   "cell_type": "code",
   "execution_count": 7,
   "outputs": [
    {
     "name": "stdout",
     "output_type": "stream",
     "text": [
      "Point: x= 0.5 y= 0.0 z= 0.0\n"
     ]
    }
   ],
   "source": [
    "middle_of = point1 / origin\n",
    "print(middle_of)\n"
   ],
   "metadata": {
    "collapsed": false,
    "pycharm": {
     "name": "#%%\n"
    }
   }
  },
  {
   "cell_type": "markdown",
   "source": [
    "Get a direction vector from two points. Left point is origin and right point determines the direction"
   ],
   "metadata": {
    "collapsed": false
   }
  },
  {
   "cell_type": "code",
   "execution_count": 8,
   "outputs": [
    {
     "name": "stdout",
     "output_type": "stream",
     "text": [
      "(0, 2, 0)\n"
     ]
    }
   ],
   "source": [
    "vector = point1 // point2\n",
    "print(vector)\n"
   ],
   "metadata": {
    "collapsed": false,
    "pycharm": {
     "name": "#%%\n"
    }
   }
  },
  {
   "cell_type": "markdown",
   "source": [
    "convert a Point to a tuple"
   ],
   "metadata": {
    "collapsed": false,
    "pycharm": {
     "name": "#%% md\n"
    }
   }
  },
  {
   "cell_type": "code",
   "execution_count": 9,
   "outputs": [
    {
     "name": "stdout",
     "output_type": "stream",
     "text": [
      "(1, 0, 0)\n"
     ]
    }
   ],
   "source": [
    "tuple_point = point1.to_tuple()\n",
    "print(tuple_point)"
   ],
   "metadata": {
    "collapsed": false,
    "pycharm": {
     "name": "#%%\n"
    }
   }
  },
  {
   "cell_type": "code",
   "execution_count": 10,
   "outputs": [
    {
     "name": "stdout",
     "output_type": "stream",
     "text": [
      "10.488088481701515\n",
      "1.0\n"
     ]
    }
   ],
   "source": [
    "not_normal_point = Point(2,-9,5)\n",
    "normalicid_poinf = Point(*not_normal_point.get_normalized_vector())\n",
    "\n",
    "print(abs(not_normal_point))\n",
    "print(abs(normalicid_poinf))\n"
   ],
   "metadata": {
    "collapsed": false,
    "pycharm": {
     "name": "#%%\n"
    }
   }
  }
 ],
 "metadata": {
  "kernelspec": {
   "display_name": "Python 3",
   "language": "python",
   "name": "python3"
  },
  "language_info": {
   "codemirror_mode": {
    "name": "ipython",
    "version": 2
   },
   "file_extension": ".py",
   "mimetype": "text/x-python",
   "name": "python",
   "nbconvert_exporter": "python",
   "pygments_lexer": "ipython2",
   "version": "2.7.6"
  }
 },
 "nbformat": 4,
 "nbformat_minor": 0
}